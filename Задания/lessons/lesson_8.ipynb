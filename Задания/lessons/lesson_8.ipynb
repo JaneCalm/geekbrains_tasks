{
 "cells": [
  {
   "cell_type": "markdown",
   "metadata": {},
   "source": [
    "Построить модель градиентного бустинга для показателя частоты страховых убытков. Можно предобработать исходные данные, добавив дополнительные фичи. Также можно использовать различные методы для подбора гиперпараметров. Оценить результаты построенного классификатора, выявить возможные проблемы. Сравнить результаты с полученным ранее результатом с использованием Пуассоновской регрессии. Проанализировать результаты, предложить способы решения обнаруженных проблем и/или попробовать его улучшить. При желании можно использовать любой другой пакет для построения моделей градиентого бустинга."
   ]
  },
  {
   "cell_type": "code",
   "execution_count": 1,
   "metadata": {},
   "outputs": [],
   "source": [
    "import pandas as pd\n",
    "import numpy as np\n",
    "import xgboost as xgb\n",
    "import matplotlib.pyplot as plt\n",
    "from sklearn.model_selection import train_test_split\n",
    "from sklearn.metrics import f1_score, accuracy_score, confusion_matrix, matthews_corrcoef\n",
    "from hyperopt import hp, tpe, space_eval\n",
    "from hyperopt.fmin import fmin\n",
    "from insolver import InsDataFrame, InsolverGradientBoostingWrapper, train_val_test_split\n",
    "\n",
    "import matplotlib.pyplot as plt"
   ]
  },
  {
   "cell_type": "code",
   "execution_count": 2,
   "metadata": {},
   "outputs": [],
   "source": [
    "df = pd.read_csv('freMPL-R.csv', low_memory=False)"
   ]
  },
  {
   "cell_type": "code",
   "execution_count": 3,
   "metadata": {},
   "outputs": [
    {
     "name": "stdout",
     "output_type": "stream",
     "text": [
      "<class 'pandas.core.frame.DataFrame'>\n",
      "RangeIndex: 115155 entries, 0 to 115154\n",
      "Data columns (total 20 columns):\n",
      " #   Column             Non-Null Count   Dtype  \n",
      "---  ------             --------------   -----  \n",
      " 0   Exposure           115155 non-null  float64\n",
      " 1   LicAge             115155 non-null  int64  \n",
      " 2   RecordBeg          115155 non-null  object \n",
      " 3   RecordEnd          59455 non-null   object \n",
      " 4   Gender             115155 non-null  object \n",
      " 5   MariStat           115155 non-null  object \n",
      " 6   SocioCateg         115155 non-null  object \n",
      " 7   VehUsage           115155 non-null  object \n",
      " 8   DrivAge            115155 non-null  int64  \n",
      " 9   HasKmLimit         115155 non-null  int64  \n",
      " 10  BonusMalus         115155 non-null  int64  \n",
      " 11  ClaimAmount        115155 non-null  float64\n",
      " 12  ClaimInd           115155 non-null  int64  \n",
      " 13  ClaimNbResp        115155 non-null  float64\n",
      " 14  ClaimNbNonResp     115155 non-null  float64\n",
      " 15  ClaimNbParking     115155 non-null  float64\n",
      " 16  ClaimNbFireTheft   115155 non-null  float64\n",
      " 17  ClaimNbWindscreen  115155 non-null  float64\n",
      " 18  OutUseNb           115155 non-null  float64\n",
      " 19  RiskArea           115155 non-null  float64\n",
      "dtypes: float64(9), int64(5), object(6)\n",
      "memory usage: 17.6+ MB\n"
     ]
    }
   ],
   "source": [
    "df = df.loc[df.Dataset.isin([5, 6, 7, 8, 9])]\n",
    "df.drop('Dataset', axis=1, inplace=True)\n",
    "df.dropna(axis=1, how='all', inplace=True)\n",
    "df.drop_duplicates(inplace=True)\n",
    "df.reset_index(drop=True, inplace=True)\n",
    "df.info()"
   ]
  },
  {
   "cell_type": "markdown",
   "metadata": {},
   "source": [
    "### Предобработка данных"
   ]
  },
  {
   "cell_type": "code",
   "execution_count": 4,
   "metadata": {},
   "outputs": [],
   "source": [
    "df.loc[df.ClaimAmount < 0, 'ClaimAmount'] = 0\n",
    "df['ClaimsCount'] = df.ClaimInd + df.ClaimNbResp + df.ClaimNbNonResp + df.ClaimNbParking + df.ClaimNbFireTheft + df.ClaimNbWindscreen\n",
    "df.loc[df.ClaimAmount == 0, 'ClaimsCount'] = 0\n",
    "df.drop([\"ClaimNbResp\", \"ClaimNbNonResp\", \"ClaimNbParking\", \"ClaimNbFireTheft\", \"ClaimNbWindscreen\"], axis=1, inplace=True)"
   ]
  },
  {
   "cell_type": "code",
   "execution_count": 5,
   "metadata": {},
   "outputs": [],
   "source": [
    "class InsDataFrame_Fr(InsDataFrame):\n",
    "\n",
    "    # Experience (weeks to years)\n",
    "    @staticmethod\n",
    "    def _exp(exp, exp_max):\n",
    "        if pd.isnull(exp):\n",
    "            exp = None\n",
    "        elif exp < 0:\n",
    "            exp = None\n",
    "        else:\n",
    "            exp * 7 // 365\n",
    "        if exp > exp_max:\n",
    "            exp = exp_max\n",
    "        return exp\n",
    "\n",
    "    # Marital status\n",
    "    _MariStat_dict = {'Other':0, 'Alone':1}\n",
    "\n",
    "    def transform_MariStat(self):\n",
    "        self._df['MariStat'] = self._df['MariStat'].map(self._MariStat_dict)\n",
    "    \n",
    "    # Social category\n",
    "    def transform_SocioCateg(self):\n",
    "        self._df['SocioCateg'] = self._df['SocioCateg'].str.slice(0,4)"
   ]
  },
  {
   "cell_type": "code",
   "execution_count": 6,
   "metadata": {},
   "outputs": [],
   "source": [
    "data = InsDataFrame_Fr()"
   ]
  },
  {
   "cell_type": "code",
   "execution_count": 7,
   "metadata": {},
   "outputs": [],
   "source": [
    "data.load_pd(df)"
   ]
  },
  {
   "cell_type": "code",
   "execution_count": 8,
   "metadata": {},
   "outputs": [],
   "source": [
    "data.columns_match({'DrivAge':'driver_minage','LicAge':'driver_minexp'})"
   ]
  },
  {
   "cell_type": "code",
   "execution_count": 9,
   "metadata": {},
   "outputs": [],
   "source": [
    "data.transform_age()\n",
    "data.transform_exp()\n",
    "data.transform_gender()\n",
    "data.transform_MariStat()\n",
    "data.transform_SocioCateg()\n",
    "\n",
    "data.transform_age_gender()\n",
    "data.polynomizer('driver_minage_m')\n",
    "data.polynomizer('driver_minage_f')\n",
    "\n",
    "data.get_dummies(['VehUsage', 'SocioCateg'])\n",
    "\n",
    "col_features = [\n",
    "    'driver_minexp',\n",
    "    'Gender',\n",
    "    'MariStat',\n",
    "    'HasKmLimit',\n",
    "    'BonusMalus',\n",
    "    'OutUseNb',\n",
    "    'RiskArea',\n",
    "    'driver_minage_m',\n",
    "    'driver_minage_f',\n",
    "    'driver_minage_m_2',\n",
    "    'driver_minage_f_2',\n",
    "    'VehUsage_Private',\n",
    "    'VehUsage_Private+trip to office',\n",
    "    'VehUsage_Professional',\n",
    "    'VehUsage_Professional run',\n",
    "    'SocioCateg_CSP1',\n",
    "    'SocioCateg_CSP2',\n",
    "    'SocioCateg_CSP3',\n",
    "    'SocioCateg_CSP4',\n",
    "    'SocioCateg_CSP5',\n",
    "    'SocioCateg_CSP6',\n",
    "    'SocioCateg_CSP7'\n",
    "    \n",
    "]\n",
    "\n",
    "col_target = ['ClaimAmount', 'ClaimsCount']\n",
    "df_freq = data.get_pd(col_features+col_target)"
   ]
  },
  {
   "cell_type": "code",
   "execution_count": 10,
   "metadata": {},
   "outputs": [
    {
     "name": "stdout",
     "output_type": "stream",
     "text": [
      "<class 'pandas.core.frame.DataFrame'>\n",
      "RangeIndex: 115155 entries, 0 to 115154\n",
      "Data columns (total 24 columns):\n",
      " #   Column                           Non-Null Count   Dtype  \n",
      "---  ------                           --------------   -----  \n",
      " 0   driver_minexp                    115155 non-null  int64  \n",
      " 1   Gender                           115155 non-null  int64  \n",
      " 2   MariStat                         115155 non-null  int64  \n",
      " 3   HasKmLimit                       115155 non-null  int64  \n",
      " 4   BonusMalus                       115155 non-null  int64  \n",
      " 5   OutUseNb                         115155 non-null  float64\n",
      " 6   RiskArea                         115155 non-null  float64\n",
      " 7   driver_minage_m                  115155 non-null  int64  \n",
      " 8   driver_minage_f                  115155 non-null  int64  \n",
      " 9   driver_minage_m_2                115155 non-null  int64  \n",
      " 10  driver_minage_f_2                115155 non-null  int64  \n",
      " 11  VehUsage_Private                 115155 non-null  uint8  \n",
      " 12  VehUsage_Private+trip to office  115155 non-null  uint8  \n",
      " 13  VehUsage_Professional            115155 non-null  uint8  \n",
      " 14  VehUsage_Professional run        115155 non-null  uint8  \n",
      " 15  SocioCateg_CSP1                  115155 non-null  uint8  \n",
      " 16  SocioCateg_CSP2                  115155 non-null  uint8  \n",
      " 17  SocioCateg_CSP3                  115155 non-null  uint8  \n",
      " 18  SocioCateg_CSP4                  115155 non-null  uint8  \n",
      " 19  SocioCateg_CSP5                  115155 non-null  uint8  \n",
      " 20  SocioCateg_CSP6                  115155 non-null  uint8  \n",
      " 21  SocioCateg_CSP7                  115155 non-null  uint8  \n",
      " 22  ClaimAmount                      115155 non-null  float64\n",
      " 23  ClaimsCount                      115155 non-null  float64\n",
      "dtypes: float64(4), int64(9), uint8(11)\n",
      "memory usage: 12.6 MB\n"
     ]
    }
   ],
   "source": [
    "df_freq.info()"
   ]
  },
  {
   "cell_type": "markdown",
   "metadata": {},
   "source": [
    "XGBoost для многоклассовой классификации принимает на вход значения меток классов в виде `[0, num_classes]`. Заменим значение 11 на 10."
   ]
  },
  {
   "cell_type": "code",
   "execution_count": 11,
   "metadata": {},
   "outputs": [],
   "source": [
    "df_freq['ClaimsCount'] = df_freq['ClaimsCount'].replace({11:10}).fillna(0)"
   ]
  },
  {
   "cell_type": "markdown",
   "metadata": {},
   "source": [
    "Посмотрим, сколько полисов соответствуют каждому из значений ClaimsCount, используя метод groupby. Для полученных значений также посчитаем нормированную частоту."
   ]
  },
  {
   "cell_type": "code",
   "execution_count": 12,
   "metadata": {},
   "outputs": [],
   "source": [
    "FreqCount = pd.DataFrame(df_freq.groupby('ClaimsCount').size(), columns=['Count'])"
   ]
  },
  {
   "cell_type": "code",
   "execution_count": 13,
   "metadata": {},
   "outputs": [
    {
     "data": {
      "image/png": "[encoded data removed]",
      "text/plain": [
       "<Figure size 432x288 with 1 Axes>"
      ]
     },
     "metadata": {
      "needs_background": "light"
     },
     "output_type": "display_data"
    }
   ],
   "source": [
    "FreqCount.Count.plot(kind='bar')\n",
    "plt.ylabel('Frequency')\n",
    "plt.show()"
   ]
  },
  {
   "cell_type": "code",
   "execution_count": 14,
   "metadata": {},
   "outputs": [
    {
     "data": {
      "text/html": [
       "<div>\n",
       "<style scoped>\n",
       "    .dataframe tbody tr th:only-of-type {\n",
       "        vertical-align: middle;\n",
       "    }\n",
       "\n",
       "    .dataframe tbody tr th {\n",
       "        vertical-align: top;\n",
       "    }\n",
       "\n",
       "    .dataframe thead th {\n",
       "        text-align: right;\n",
       "    }\n",
       "</style>\n",
       "<table border=\"1\" class=\"dataframe\">\n",
       "  <thead>\n",
       "    <tr style=\"text-align: right;\">\n",
       "      <th></th>\n",
       "      <th>Count</th>\n",
       "    </tr>\n",
       "    <tr>\n",
       "      <th>ClaimsCount</th>\n",
       "      <th></th>\n",
       "    </tr>\n",
       "  </thead>\n",
       "  <tbody>\n",
       "    <tr>\n",
       "      <th>0.0</th>\n",
       "      <td>104286</td>\n",
       "    </tr>\n",
       "    <tr>\n",
       "      <th>1.0</th>\n",
       "      <td>3339</td>\n",
       "    </tr>\n",
       "    <tr>\n",
       "      <th>2.0</th>\n",
       "      <td>3529</td>\n",
       "    </tr>\n",
       "    <tr>\n",
       "      <th>3.0</th>\n",
       "      <td>2310</td>\n",
       "    </tr>\n",
       "    <tr>\n",
       "      <th>4.0</th>\n",
       "      <td>1101</td>\n",
       "    </tr>\n",
       "    <tr>\n",
       "      <th>5.0</th>\n",
       "      <td>428</td>\n",
       "    </tr>\n",
       "    <tr>\n",
       "      <th>6.0</th>\n",
       "      <td>127</td>\n",
       "    </tr>\n",
       "    <tr>\n",
       "      <th>7.0</th>\n",
       "      <td>26</td>\n",
       "    </tr>\n",
       "    <tr>\n",
       "      <th>8.0</th>\n",
       "      <td>6</td>\n",
       "    </tr>\n",
       "    <tr>\n",
       "      <th>9.0</th>\n",
       "      <td>2</td>\n",
       "    </tr>\n",
       "    <tr>\n",
       "      <th>10.0</th>\n",
       "      <td>1</td>\n",
       "    </tr>\n",
       "  </tbody>\n",
       "</table>\n",
       "</div>"
      ],
      "text/plain": [
       "              Count\n",
       "ClaimsCount        \n",
       "0.0          104286\n",
       "1.0            3339\n",
       "2.0            3529\n",
       "3.0            2310\n",
       "4.0            1101\n",
       "5.0             428\n",
       "6.0             127\n",
       "7.0              26\n",
       "8.0               6\n",
       "9.0               2\n",
       "10.0              1"
      ]
     },
     "execution_count": 14,
     "metadata": {},
     "output_type": "execute_result"
    }
   ],
   "source": [
    "FreqCount"
   ]
  },
  {
   "cell_type": "markdown",
   "metadata": {},
   "source": [
    "Заметим, что в данном случае присутствует проблема несбалансированности классов. Поэтому, для того, чтобы по возможности избежать ее, воспользуемся взвешиванием наблюдений для обучения модели. Для этого в исходном наборе данных создадим столбец weight. Присвоим ему некоторые значения, например, можно задать 0.05 для значений ClaimsCount 0, а для остальных - 1 (Для этого можем использовать функцию np.where). Также можно попробовать какой-либо другой способ задания весов, приведенный пример не гарантирует хороших результатов."
   ]
  },
  {
   "cell_type": "code",
   "execution_count": 15,
   "metadata": {},
   "outputs": [],
   "source": [
    "df_freq['weight'] = np.where(df_freq.ClaimsCount == 0, 0.02, 1)"
   ]
  },
  {
   "cell_type": "code",
   "execution_count": 16,
   "metadata": {},
   "outputs": [
    {
     "data": {
      "text/html": [
       "<div>\n",
       "<style scoped>\n",
       "    .dataframe tbody tr th:only-of-type {\n",
       "        vertical-align: middle;\n",
       "    }\n",
       "\n",
       "    .dataframe tbody tr th {\n",
       "        vertical-align: top;\n",
       "    }\n",
       "\n",
       "    .dataframe thead th {\n",
       "        text-align: right;\n",
       "    }\n",
       "</style>\n",
       "<table border=\"1\" class=\"dataframe\">\n",
       "  <thead>\n",
       "    <tr style=\"text-align: right;\">\n",
       "      <th></th>\n",
       "      <th>driver_minexp</th>\n",
       "      <th>Gender</th>\n",
       "      <th>MariStat</th>\n",
       "      <th>HasKmLimit</th>\n",
       "      <th>BonusMalus</th>\n",
       "      <th>OutUseNb</th>\n",
       "      <th>RiskArea</th>\n",
       "      <th>driver_minage_m</th>\n",
       "      <th>driver_minage_f</th>\n",
       "      <th>driver_minage_m_2</th>\n",
       "      <th>...</th>\n",
       "      <th>SocioCateg_CSP1</th>\n",
       "      <th>SocioCateg_CSP2</th>\n",
       "      <th>SocioCateg_CSP3</th>\n",
       "      <th>SocioCateg_CSP4</th>\n",
       "      <th>SocioCateg_CSP5</th>\n",
       "      <th>SocioCateg_CSP6</th>\n",
       "      <th>SocioCateg_CSP7</th>\n",
       "      <th>ClaimAmount</th>\n",
       "      <th>ClaimsCount</th>\n",
       "      <th>weight</th>\n",
       "    </tr>\n",
       "  </thead>\n",
       "  <tbody>\n",
       "    <tr>\n",
       "      <th>0</th>\n",
       "      <td>52</td>\n",
       "      <td>0</td>\n",
       "      <td>0</td>\n",
       "      <td>0</td>\n",
       "      <td>50</td>\n",
       "      <td>0.0</td>\n",
       "      <td>9.0</td>\n",
       "      <td>46</td>\n",
       "      <td>18</td>\n",
       "      <td>2116</td>\n",
       "      <td>...</td>\n",
       "      <td>0</td>\n",
       "      <td>0</td>\n",
       "      <td>0</td>\n",
       "      <td>0</td>\n",
       "      <td>1</td>\n",
       "      <td>0</td>\n",
       "      <td>0</td>\n",
       "      <td>0.0</td>\n",
       "      <td>0.0</td>\n",
       "      <td>0.02</td>\n",
       "    </tr>\n",
       "    <tr>\n",
       "      <th>1</th>\n",
       "      <td>52</td>\n",
       "      <td>0</td>\n",
       "      <td>0</td>\n",
       "      <td>0</td>\n",
       "      <td>50</td>\n",
       "      <td>0.0</td>\n",
       "      <td>9.0</td>\n",
       "      <td>46</td>\n",
       "      <td>18</td>\n",
       "      <td>2116</td>\n",
       "      <td>...</td>\n",
       "      <td>0</td>\n",
       "      <td>0</td>\n",
       "      <td>0</td>\n",
       "      <td>0</td>\n",
       "      <td>1</td>\n",
       "      <td>0</td>\n",
       "      <td>0</td>\n",
       "      <td>0.0</td>\n",
       "      <td>0.0</td>\n",
       "      <td>0.02</td>\n",
       "    </tr>\n",
       "    <tr>\n",
       "      <th>2</th>\n",
       "      <td>52</td>\n",
       "      <td>0</td>\n",
       "      <td>0</td>\n",
       "      <td>0</td>\n",
       "      <td>68</td>\n",
       "      <td>0.0</td>\n",
       "      <td>7.0</td>\n",
       "      <td>32</td>\n",
       "      <td>18</td>\n",
       "      <td>1024</td>\n",
       "      <td>...</td>\n",
       "      <td>0</td>\n",
       "      <td>0</td>\n",
       "      <td>0</td>\n",
       "      <td>0</td>\n",
       "      <td>1</td>\n",
       "      <td>0</td>\n",
       "      <td>0</td>\n",
       "      <td>0.0</td>\n",
       "      <td>0.0</td>\n",
       "      <td>0.02</td>\n",
       "    </tr>\n",
       "    <tr>\n",
       "      <th>3</th>\n",
       "      <td>52</td>\n",
       "      <td>1</td>\n",
       "      <td>0</td>\n",
       "      <td>0</td>\n",
       "      <td>50</td>\n",
       "      <td>0.0</td>\n",
       "      <td>8.0</td>\n",
       "      <td>18</td>\n",
       "      <td>52</td>\n",
       "      <td>324</td>\n",
       "      <td>...</td>\n",
       "      <td>0</td>\n",
       "      <td>0</td>\n",
       "      <td>0</td>\n",
       "      <td>0</td>\n",
       "      <td>1</td>\n",
       "      <td>0</td>\n",
       "      <td>0</td>\n",
       "      <td>0.0</td>\n",
       "      <td>0.0</td>\n",
       "      <td>0.02</td>\n",
       "    </tr>\n",
       "    <tr>\n",
       "      <th>4</th>\n",
       "      <td>52</td>\n",
       "      <td>0</td>\n",
       "      <td>0</td>\n",
       "      <td>0</td>\n",
       "      <td>50</td>\n",
       "      <td>0.0</td>\n",
       "      <td>7.0</td>\n",
       "      <td>57</td>\n",
       "      <td>18</td>\n",
       "      <td>3249</td>\n",
       "      <td>...</td>\n",
       "      <td>0</td>\n",
       "      <td>0</td>\n",
       "      <td>0</td>\n",
       "      <td>0</td>\n",
       "      <td>0</td>\n",
       "      <td>1</td>\n",
       "      <td>0</td>\n",
       "      <td>0.0</td>\n",
       "      <td>0.0</td>\n",
       "      <td>0.02</td>\n",
       "    </tr>\n",
       "  </tbody>\n",
       "</table>\n",
       "<p>5 rows × 25 columns</p>\n",
       "</div>"
      ],
      "text/plain": [
       "   driver_minexp  Gender  MariStat  HasKmLimit  BonusMalus  OutUseNb  \\\n",
       "0             52       0         0           0          50       0.0   \n",
       "1             52       0         0           0          50       0.0   \n",
       "2             52       0         0           0          68       0.0   \n",
       "3             52       1         0           0          50       0.0   \n",
       "4             52       0         0           0          50       0.0   \n",
       "\n",
       "   RiskArea  driver_minage_m  driver_minage_f  driver_minage_m_2  ...  \\\n",
       "0       9.0               46               18               2116  ...   \n",
       "1       9.0               46               18               2116  ...   \n",
       "2       7.0               32               18               1024  ...   \n",
       "3       8.0               18               52                324  ...   \n",
       "4       7.0               57               18               3249  ...   \n",
       "\n",
       "   SocioCateg_CSP1  SocioCateg_CSP2  SocioCateg_CSP3  SocioCateg_CSP4  \\\n",
       "0                0                0                0                0   \n",
       "1                0                0                0                0   \n",
       "2                0                0                0                0   \n",
       "3                0                0                0                0   \n",
       "4                0                0                0                0   \n",
       "\n",
       "   SocioCateg_CSP5  SocioCateg_CSP6  SocioCateg_CSP7  ClaimAmount  \\\n",
       "0                1                0                0          0.0   \n",
       "1                1                0                0          0.0   \n",
       "2                1                0                0          0.0   \n",
       "3                1                0                0          0.0   \n",
       "4                0                1                0          0.0   \n",
       "\n",
       "   ClaimsCount  weight  \n",
       "0          0.0    0.02  \n",
       "1          0.0    0.02  \n",
       "2          0.0    0.02  \n",
       "3          0.0    0.02  \n",
       "4          0.0    0.02  \n",
       "\n",
       "[5 rows x 25 columns]"
      ]
     },
     "execution_count": 16,
     "metadata": {},
     "output_type": "execute_result"
    }
   ],
   "source": [
    "df_freq.head() "
   ]
  },
  {
   "cell_type": "markdown",
   "metadata": {},
   "source": [
    "Разобьем имеющийся набор данных на обучающую, валидационную и тестовую выборки в отношениях 70%/15%/15% соответственно. Зададим зерно для случайного разбиения равным 10."
   ]
  },
  {
   "cell_type": "code",
   "execution_count": 17,
   "metadata": {},
   "outputs": [],
   "source": [
    "x_train, x_valid, x_test, \\\n",
    "y_train, y_valid, y_test = train_val_test_split(df_freq.drop(['ClaimAmount', 'ClaimsCount'], axis=1),\n",
    "                                                df_freq.ClaimsCount, val_size=0.15, test_size=0.15, random_state=42)"
   ]
  },
  {
   "cell_type": "markdown",
   "metadata": {},
   "source": [
    "Далее, создадим объекты `DMatrix` для обучающей, валидационной и тестовой выборок. Для обучающей выборки также укажем параметр `weight` равным полученному ранее столбцу весов. Данный столбец также нужно исключить из объекта передаваемого в параметр `data`."
   ]
  },
  {
   "cell_type": "code",
   "execution_count": 18,
   "metadata": {},
   "outputs": [],
   "source": [
    "igb = InsolverGradientBoostingWrapper(algorithm='xgboost')"
   ]
  },
  {
   "cell_type": "markdown",
   "metadata": {},
   "source": [
    "Для оптимизации гиперпараметров можно воспользоваться различными методами."
   ]
  },
  {
   "cell_type": "code",
   "execution_count": 19,
   "metadata": {},
   "outputs": [],
   "source": [
    "# Определим границы, в которых будем искать гиперпараметры \n",
    "\n",
    "space_xgboost = {\n",
    "              'objective': 'multi:softmax',\n",
    "              'num_class': len(df_freq.ClaimsCount.unique()),\n",
    "              'num_boost_round': hp.choice('num_boost_round', [50, 300, 500]),\n",
    "              'max_depth': hp.choice('max_depth', [5, 8, 10, 12, 15]),\n",
    "              'min_child_weight': hp.uniform('min_child_weight', 0, 50),\n",
    "              'subsample': hp.uniform('subsample', 0.5, 1),\n",
    "              'colsample_bytree': hp.uniform('colsample_bytree', 0.5, 1),\n",
    "              'alpha': hp.uniform('alpha', 0, 1),\n",
    "              'lambda': hp.uniform('lambda', 0, 1),\n",
    "              'eta': hp.uniform('eta', 0.01, 1),\n",
    "                               'gamma':hp.uniform('gamma', 0.01, 1000),\n",
    "    'tree_method':'hist'\n",
    "              }"
   ]
  },
  {
   "cell_type": "code",
   "execution_count": 20,
   "metadata": {},
   "outputs": [],
   "source": [
    "cv_par = {'num_boost_round' : 1000,\n",
    "         'nfold': 3,\n",
    "          'early_stopping_rounds':20,\n",
    "          'seed' :0,\n",
    "          'shuffle':True,\n",
    "          'stratified':False\n",
    "         }"
   ]
  },
  {
   "cell_type": "code",
   "execution_count": 21,
   "metadata": {},
   "outputs": [
    {
     "name": "stdout",
     "output_type": "stream",
     "text": [
      "100%|██████████| 50/50 [07:22<00:00,  8.86s/trial, best loss: 0.710049]          \n"
     ]
    }
   ],
   "source": [
    "igb.hyperopt_cv(x_train.drop('weight', axis=1),y_train, space_xgboost,cv_par,\n",
    "               data_params={'weight': x_train['weight']},max_evals=50)"
   ]
  },
  {
   "cell_type": "code",
   "execution_count": 22,
   "metadata": {},
   "outputs": [
    {
     "name": "stdout",
     "output_type": "stream",
     "text": [
      "[0]\ttrain-merror:0.966926\tvalid-merror:0.964397\n",
      "Multiple eval metrics have been passed: 'valid-merror' will be used for early stopping.\n",
      "\n",
      "Will train until valid-merror hasn't improved in 20 rounds.\n",
      "[1]\ttrain-merror:0.96602\tvalid-merror:0.962892\n",
      "[2]\ttrain-merror:0.96504\tvalid-merror:0.964687\n",
      "[3]\ttrain-merror:0.965983\tvalid-merror:0.96515\n",
      "[4]\ttrain-merror:0.965946\tvalid-merror:0.965208\n",
      "[5]\ttrain-merror:0.965871\tvalid-merror:0.965034\n",
      "[6]\ttrain-merror:0.965847\tvalid-merror:0.964803\n",
      "[7]\ttrain-merror:0.965648\tvalid-merror:0.965092\n",
      "[8]\ttrain-merror:0.965723\tvalid-merror:0.965034\n",
      "[9]\ttrain-merror:0.965983\tvalid-merror:0.964918\n",
      "[10]\ttrain-merror:0.965921\tvalid-merror:0.964513\n",
      "[11]\ttrain-merror:0.965499\tvalid-merror:0.964513\n",
      "[12]\ttrain-merror:0.965474\tvalid-merror:0.964803\n",
      "[13]\ttrain-merror:0.965611\tvalid-merror:0.964745\n",
      "[14]\ttrain-merror:0.965623\tvalid-merror:0.964745\n",
      "[15]\ttrain-merror:0.965599\tvalid-merror:0.964687\n",
      "[16]\ttrain-merror:0.965549\tvalid-merror:0.964629\n",
      "[17]\ttrain-merror:0.965536\tvalid-merror:0.964224\n",
      "[18]\ttrain-merror:0.965524\tvalid-merror:0.964224\n",
      "[19]\ttrain-merror:0.965536\tvalid-merror:0.964282\n",
      "[20]\ttrain-merror:0.965499\tvalid-merror:0.964687\n",
      "[21]\ttrain-merror:0.965437\tvalid-merror:0.964745\n",
      "Stopping. Best iteration:\n",
      "[1]\ttrain-merror:0.96602\tvalid-merror:0.962892\n",
      "\n"
     ]
    }
   ],
   "source": [
    "igb.fit_booster(x_train.drop('weight', axis=1),y_train, core_params={'evals': [((x_train.drop('weight', axis=1),y_train),'train'),\n",
    "                                                                              ((x_valid.drop('weight', axis=1), y_valid),'valid')]})"
   ]
  },
  {
   "cell_type": "markdown",
   "metadata": {},
   "source": [
    "Далее обучим нашу модель с оптимальными параметрами"
   ]
  },
  {
   "cell_type": "markdown",
   "metadata": {},
   "source": [
    "Посчитаем метрики accuracy и f1 на наших наборах данных, также можем визуализировать confusion matrix, например, с помощью plt.imshow(). Можно использовать предложенный ниже код."
   ]
  },
  {
   "cell_type": "code",
   "execution_count": 23,
   "metadata": {},
   "outputs": [],
   "source": [
    "dfsets = [{'set': 'train', 'x': x_train.drop('weight', axis=1), 'target': y_train},\n",
    "          {'set': 'valid', 'x': x_valid.drop('weight', axis=1),  'target': y_valid},\n",
    "          {'set': 'test', 'x': x_test.drop('weight', axis=1),  'target': y_test}]"
   ]
  },
  {
   "cell_type": "code",
   "execution_count": 24,
   "metadata": {},
   "outputs": [
    {
     "name": "stdout",
     "output_type": "stream",
     "text": [
      "F1 Score on train: 0.034562755095711294\n",
      "F1 Score on valid: 0.035255296978117405\n",
      "F1 Score on test: 0.031492416348269076\n"
     ]
    }
   ],
   "source": [
    "for dfset in dfsets:\n",
    "    class_preds = igb.booster.predict(xgb.DMatrix(dfset['x'])) # Посчитаем предсказанные значения\n",
    "    print('F1 Score on ' + str(dfset['set']) +':', f1_score(dfset['target'], class_preds, average='micro'))# Посчитаем F1 Score"
   ]
  },
  {
   "cell_type": "code",
   "execution_count": 25,
   "metadata": {},
   "outputs": [
    {
     "data": {
      "image/png": "[encoded data removed]",
      "text/plain": [
       "<Figure size 1080x216 with 6 Axes>"
      ]
     },
     "metadata": {
      "needs_background": "light"
     },
     "output_type": "display_data"
    }
   ],
   "source": [
    "plt.subplots(1,3, figsize=(15,3))\n",
    "for i in range(len(dfsets)):\n",
    "    confmatrix = confusion_matrix(dfsets[i]['target'], igb.booster.predict(xgb.DMatrix(dfsets[i]['x'])))\n",
    "    plt.subplot(1,3,i+1)\n",
    "    plt.imshow(confmatrix, cmap='Greys')\n",
    "    plt.colorbar()\n",
    "    plt.ylabel('True')\n",
    "    plt.xlabel('Predicted')\n",
    "plt.show()"
   ]
  },
  {
   "cell_type": "markdown",
   "metadata": {},
   "source": [
    "Как вы оцениваете качество построенной модели? Какие проблемы могут здесь присутствовать? Как можно улучшить результат?"
   ]
  },
  {
   "cell_type": "markdown",
   "metadata": {},
   "source": [
    " f1 дмаленькая\n",
    " \n",
    " \n",
    " чтобы улучшить результат модели нужно еще поработать над feature engineering "
   ]
  }
 ],
 "metadata": {
  "kernelspec": {
   "display_name": "Python 3",
   "language": "python",
   "name": "python3"
  },
  "language_info": {
   "codemirror_mode": {
    "name": "ipython",
    "version": 3
   },
   "file_extension": ".py",
   "mimetype": "text/x-python",
   "name": "python",
   "nbconvert_exporter": "python",
   "pygments_lexer": "ipython3",
   "version": "3.7.6"
  }
 },
 "nbformat": 4,
 "nbformat_minor": 2
}
